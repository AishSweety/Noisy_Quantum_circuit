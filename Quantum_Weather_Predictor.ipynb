{
  "nbformat": 4,
  "nbformat_minor": 0,
  "metadata": {
    "colab": {
      "provenance": []
    },
    "kernelspec": {
      "name": "python3",
      "display_name": "Python 3"
    },
    "language_info": {
      "name": "python"
    }
  },
  "cells": [
    {
      "cell_type": "code",
      "source": [
        "!pip install pennylane"
      ],
      "metadata": {
        "colab": {
          "base_uri": "https://localhost:8080/"
        },
        "id": "qL0mmkzBaAyN",
        "outputId": "6220d96b-b6bc-4a20-e9c0-3dab433b92ef"
      },
      "execution_count": 3,
      "outputs": [
        {
          "output_type": "stream",
          "name": "stdout",
          "text": [
            "Requirement already satisfied: pennylane in /usr/local/lib/python3.10/dist-packages (0.33.1)\n",
            "Requirement already satisfied: numpy in /usr/local/lib/python3.10/dist-packages (from pennylane) (1.23.5)\n",
            "Requirement already satisfied: scipy in /usr/local/lib/python3.10/dist-packages (from pennylane) (1.11.4)\n",
            "Requirement already satisfied: networkx in /usr/local/lib/python3.10/dist-packages (from pennylane) (3.2.1)\n",
            "Requirement already satisfied: rustworkx in /usr/local/lib/python3.10/dist-packages (from pennylane) (0.13.2)\n",
            "Requirement already satisfied: autograd in /usr/local/lib/python3.10/dist-packages (from pennylane) (1.6.2)\n",
            "Requirement already satisfied: toml in /usr/local/lib/python3.10/dist-packages (from pennylane) (0.10.2)\n",
            "Requirement already satisfied: appdirs in /usr/local/lib/python3.10/dist-packages (from pennylane) (1.4.4)\n",
            "Requirement already satisfied: semantic-version>=2.7 in /usr/local/lib/python3.10/dist-packages (from pennylane) (2.10.0)\n",
            "Requirement already satisfied: autoray>=0.6.1 in /usr/local/lib/python3.10/dist-packages (from pennylane) (0.6.7)\n",
            "Requirement already satisfied: cachetools in /usr/local/lib/python3.10/dist-packages (from pennylane) (5.3.2)\n",
            "Requirement already satisfied: pennylane-lightning>=0.33 in /usr/local/lib/python3.10/dist-packages (from pennylane) (0.33.1)\n",
            "Requirement already satisfied: requests in /usr/local/lib/python3.10/dist-packages (from pennylane) (2.31.0)\n",
            "Requirement already satisfied: typing-extensions in /usr/local/lib/python3.10/dist-packages (from pennylane) (4.5.0)\n",
            "Requirement already satisfied: future>=0.15.2 in /usr/local/lib/python3.10/dist-packages (from autograd->pennylane) (0.18.3)\n",
            "Requirement already satisfied: charset-normalizer<4,>=2 in /usr/local/lib/python3.10/dist-packages (from requests->pennylane) (3.3.2)\n",
            "Requirement already satisfied: idna<4,>=2.5 in /usr/local/lib/python3.10/dist-packages (from requests->pennylane) (3.6)\n",
            "Requirement already satisfied: urllib3<3,>=1.21.1 in /usr/local/lib/python3.10/dist-packages (from requests->pennylane) (2.0.7)\n",
            "Requirement already satisfied: certifi>=2017.4.17 in /usr/local/lib/python3.10/dist-packages (from requests->pennylane) (2023.11.17)\n"
          ]
        }
      ]
    },
    {
      "cell_type": "code",
      "source": [
        "import pennylane as qml\n",
        "from pennylane import numpy as np\n",
        "import matplotlib.pyplot as plt\n",
        "\n",
        "\n",
        "def encode_data(weather):\n",
        "    sunny_condition = np.all(weather == \"sunny\")\n",
        "    rainy_condition = np.all(weather == \"rainy\")\n",
        "\n",
        "    if sunny_condition:\n",
        "        return 0\n",
        "    elif rainy_condition:\n",
        "        return 2 * np.pi / 3\n",
        "    else:\n",
        "        return 4 * np.pi / 3\n",
        "\n",
        "\n",
        "\n",
        "# Quantum Node: QML circuit\n",
        "@qml.qnode(dev)\n",
        "def weather_circuit(weather_data, params):\n",
        "    for i in range(len(weather_data)):\n",
        "        qml.RX(encode_data(weather_data[i]), wires=0)\n",
        "    qml.RX(params[0], wires=0)\n",
        "    qml.RY(params[1], wires=0)\n",
        "    return qml.expval(qml.PauliZ(0))\n",
        "\n",
        "\n",
        "def cost(params, data):\n",
        "    total_loss = 0\n",
        "    for sequence in data:\n",
        "        weather_data, actual_weather = sequence[:-1], sequence[-1]\n",
        "        predicted_val = weather_circuit(weather_data, params)\n",
        "        actual_val = encode_data(actual_weather) / (2 * np.pi) * 3\n",
        "        total_loss += (predicted_val - actual_val) ** 2  # MSE\n",
        "    return total_loss / len(data)\n",
        "\n",
        "\n",
        "# Quantum Node for visualization purposes\n",
        "def visualize_circuit(weather_data, params):\n",
        "    for i in range(len(weather_data)):\n",
        "        qml.RX(encode_data(weather_data[i]), wires=0)\n",
        "    qml.RX(params[0], wires=0)\n",
        "    qml.RY(params[1], wires=0)\n",
        "    return qml.expval(qml.PauliZ(0))\n",
        "\n",
        "\n",
        "# Training data\n",
        "def generate_random_data(num_samples):\n",
        "    weather_types = [\"sunny\", \"rainy\", \"cloudy\"]\n",
        "    data = []\n",
        "    for _ in range(num_samples):\n",
        "        sequence = np.random.choice(weather_types, size=7)\n",
        "        actual_weather = np.random.choice(weather_types)\n",
        "        data.append((sequence, actual_weather))\n",
        "    return data\n",
        "\n",
        "\n",
        "# Prediction and decoding\n",
        "def predict(weather_data, trained_params):\n",
        "    prediction_val = weather_circuit(weather_data, trained_params)\n",
        "    if prediction_val < 1 / 3:\n",
        "        return \"sunny\"\n",
        "    elif prediction_val < 2 / 3:\n",
        "        return \"rainy\"\n",
        "    else:\n",
        "        return \"cloudy\"\n",
        "\n",
        "\n",
        "if __name__ == '__main__':\n",
        "    # Quantum device\n",
        "    dev = qml.device(\"default.qubit\", wires=1)\n",
        "\n",
        "    params = np.random.random(2)  # Initialize parameters randomly\n",
        "    opt = qml.GradientDescentOptimizer(stepsize=0.1)\n",
        "\n",
        "    # Generate random training data\n",
        "    training_data = generate_random_data(num_samples=100)\n",
        "\n",
        "    # Training loop\n",
        "    epochs = 100\n",
        "    for epoch in range(epochs):\n",
        "        params = opt.step(lambda p: cost(p, training_data), params)\n",
        "\n",
        "    # Display the predicted weather for a random sequence of the last 7 days\n",
        "    random_weather_sequence = np.random.choice([\"sunny\", \"rainy\", \"cloudy\"], size=7)\n",
        "    print(f\"Predicted Weather: {predict(random_weather_sequence, params)}\")\n",
        "\n",
        "    # Display the trained circuit for the random sequence\n",
        "    drawn_circuit = qml.draw(visualize_circuit)\n",
        "    print(drawn_circuit(random_weather_sequence, params))\n"
      ],
      "metadata": {
        "colab": {
          "base_uri": "https://localhost:8080/"
        },
        "id": "7d_1Bqq7imO8",
        "outputId": "421f32ea-4abd-4cee-dc96-22ec6126a4d7"
      },
      "execution_count": 21,
      "outputs": [
        {
          "output_type": "stream",
          "name": "stdout",
          "text": [
            "Predicted Weather: cloudy\n",
            "0: ──RX(2.09)──RX(2.09)──RX(4.19)──RX(4.19)──RX(0.00)──RX(0.00)──RX(4.19)──RX(1.94)──RY(0.04)─┤  <Z>\n"
          ]
        }
      ]
    }
  ]
}