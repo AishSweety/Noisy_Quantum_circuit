{
  "nbformat": 4,
  "nbformat_minor": 0,
  "metadata": {
    "colab": {
      "provenance": []
    },
    "kernelspec": {
      "name": "python3",
      "display_name": "Python 3"
    },
    "language_info": {
      "name": "python"
    }
  },
  "cells": [
    {
      "cell_type": "code",
      "source": [
        "!pip install pennylane"
      ],
      "metadata": {
        "colab": {
          "base_uri": "https://localhost:8080/"
        },
        "id": "m0ykrHzURh22",
        "outputId": "e0cf87d2-e61c-49df-8b9c-be766e06b334"
      },
      "execution_count": 1,
      "outputs": [
        {
          "output_type": "stream",
          "name": "stdout",
          "text": [
            "Collecting pennylane\n",
            "  Downloading PennyLane-0.33.1-py3-none-any.whl (1.5 MB)\n",
            "\u001b[2K     \u001b[90m━━━━━━━━━━━━━━━━━━━━━━━━━━━━━━━━━━━━━━━━\u001b[0m \u001b[32m1.5/1.5 MB\u001b[0m \u001b[31m5.6 MB/s\u001b[0m eta \u001b[36m0:00:00\u001b[0m\n",
            "\u001b[?25hRequirement already satisfied: numpy in /usr/local/lib/python3.10/dist-packages (from pennylane) (1.23.5)\n",
            "Requirement already satisfied: scipy in /usr/local/lib/python3.10/dist-packages (from pennylane) (1.11.4)\n",
            "Requirement already satisfied: networkx in /usr/local/lib/python3.10/dist-packages (from pennylane) (3.2.1)\n",
            "Collecting rustworkx (from pennylane)\n",
            "  Downloading rustworkx-0.13.2-cp310-cp310-manylinux_2_17_x86_64.manylinux2014_x86_64.whl (2.0 MB)\n",
            "\u001b[2K     \u001b[90m━━━━━━━━━━━━━━━━━━━━━━━━━━━━━━━━━━━━━━━━\u001b[0m \u001b[32m2.0/2.0 MB\u001b[0m \u001b[31m13.2 MB/s\u001b[0m eta \u001b[36m0:00:00\u001b[0m\n",
            "\u001b[?25hRequirement already satisfied: autograd in /usr/local/lib/python3.10/dist-packages (from pennylane) (1.6.2)\n",
            "Requirement already satisfied: toml in /usr/local/lib/python3.10/dist-packages (from pennylane) (0.10.2)\n",
            "Requirement already satisfied: appdirs in /usr/local/lib/python3.10/dist-packages (from pennylane) (1.4.4)\n",
            "Collecting semantic-version>=2.7 (from pennylane)\n",
            "  Downloading semantic_version-2.10.0-py2.py3-none-any.whl (15 kB)\n",
            "Collecting autoray>=0.6.1 (from pennylane)\n",
            "  Downloading autoray-0.6.7-py3-none-any.whl (49 kB)\n",
            "\u001b[2K     \u001b[90m━━━━━━━━━━━━━━━━━━━━━━━━━━━━━━━━━━━━━━━━\u001b[0m \u001b[32m49.9/49.9 kB\u001b[0m \u001b[31m3.7 MB/s\u001b[0m eta \u001b[36m0:00:00\u001b[0m\n",
            "\u001b[?25hRequirement already satisfied: cachetools in /usr/local/lib/python3.10/dist-packages (from pennylane) (5.3.2)\n",
            "Collecting pennylane-lightning>=0.33 (from pennylane)\n",
            "  Downloading PennyLane_Lightning-0.33.1-cp310-cp310-manylinux_2_17_x86_64.manylinux2014_x86_64.whl (14.0 MB)\n",
            "\u001b[2K     \u001b[90m━━━━━━━━━━━━━━━━━━━━━━━━━━━━━━━━━━━━━━━━\u001b[0m \u001b[32m14.0/14.0 MB\u001b[0m \u001b[31m31.8 MB/s\u001b[0m eta \u001b[36m0:00:00\u001b[0m\n",
            "\u001b[?25hRequirement already satisfied: requests in /usr/local/lib/python3.10/dist-packages (from pennylane) (2.31.0)\n",
            "Requirement already satisfied: typing-extensions in /usr/local/lib/python3.10/dist-packages (from pennylane) (4.5.0)\n",
            "Requirement already satisfied: future>=0.15.2 in /usr/local/lib/python3.10/dist-packages (from autograd->pennylane) (0.18.3)\n",
            "Requirement already satisfied: charset-normalizer<4,>=2 in /usr/local/lib/python3.10/dist-packages (from requests->pennylane) (3.3.2)\n",
            "Requirement already satisfied: idna<4,>=2.5 in /usr/local/lib/python3.10/dist-packages (from requests->pennylane) (3.6)\n",
            "Requirement already satisfied: urllib3<3,>=1.21.1 in /usr/local/lib/python3.10/dist-packages (from requests->pennylane) (2.0.7)\n",
            "Requirement already satisfied: certifi>=2017.4.17 in /usr/local/lib/python3.10/dist-packages (from requests->pennylane) (2023.11.17)\n",
            "Installing collected packages: semantic-version, rustworkx, autoray, pennylane-lightning, pennylane\n",
            "Successfully installed autoray-0.6.7 pennylane-0.33.1 pennylane-lightning-0.33.1 rustworkx-0.13.2 semantic-version-2.10.0\n"
          ]
        }
      ]
    },
    {
      "cell_type": "code",
      "execution_count": 2,
      "metadata": {
        "colab": {
          "base_uri": "https://localhost:8080/"
        },
        "id": "AhBKv-znRfek",
        "outputId": "32d60b77-a19f-44a2-b24f-a44768948320"
      },
      "outputs": [
        {
          "output_type": "stream",
          "name": "stdout",
          "text": [
            "Step 1/500 - Cost: 1.8195191723716828\n",
            "Step 51/500 - Cost: 0.3155386353508649\n",
            "Step 101/500 - Cost: 0.317684422890525\n",
            "Step 151/500 - Cost: 0.32437010547881706\n",
            "Step 201/500 - Cost: 0.3255886652333118\n",
            "Step 251/500 - Cost: 0.3212884225069231\n",
            "Step 301/500 - Cost: 0.31456209998000745\n",
            "Step 351/500 - Cost: 0.31900548736622664\n",
            "Step 401/500 - Cost: 0.3266438930184771\n",
            "Step 451/500 - Cost: 0.3206639702614002\n",
            "\n",
            "Optimization complete.\n",
            "Initial parameters: [-0.00285521 -0.07327956  0.00541612  0.03572836 -0.02953984  0.09527576]\n",
            "Optimized parameters with noise: [ 0.41875364  0.22376084  1.7102812   0.24668548 -2.06254397 -0.30670157]\n",
            "Final cost with noise: 0.32848853334070277\n"
          ]
        }
      ],
      "source": [
        "import pennylane as qml\n",
        "import numpy as np\n",
        "\n",
        "N_QUBITS = 2\n",
        "NOISE_STRENGTH = 0.05\n",
        "NUM_LAYERS = 3\n",
        "NUM_STEPS = 500  # Increased number of steps\n",
        "STEP_SIZE = 0.1  # Adjusted step size\n",
        "\n",
        "dev = qml.device(\"default.mixed\", wires=N_QUBITS, shots=1000)\n",
        "\n",
        "@qml.qnode(dev)\n",
        "def noisy_circuit(var_params, x=None):\n",
        "    for i, xi in enumerate(x):\n",
        "        qml.RX(xi, wires=i)\n",
        "        qml.DepolarizingChannel(NOISE_STRENGTH, wires=i)\n",
        "\n",
        "    for _ in range(NUM_LAYERS):\n",
        "        for i in range(N_QUBITS):\n",
        "            qml.Rot(var_params[i], var_params[i + N_QUBITS], var_params[i + 2 * N_QUBITS], wires=i)\n",
        "        for i in range(N_QUBITS - 1):\n",
        "            qml.CNOT(wires=[i, i + 1])\n",
        "\n",
        "    return [qml.expval(qml.PauliZ(i)) for i in range(N_QUBITS)]\n",
        "\n",
        "def noisy_cost(var_params, x=None, y=None):\n",
        "    predictions = np.array(noisy_circuit(var_params, x=x))\n",
        "    return np.sum((predictions - y) ** 2)\n",
        "\n",
        "def optimize_with_noise():\n",
        "    # Adjusting the initial parameters with a smaller range\n",
        "    var_params = qml.numpy.random.uniform(low=-0.1, high=0.1, size=3 * N_QUBITS)\n",
        "    true_thetas = np.pi * np.random.rand(N_QUBITS)\n",
        "\n",
        "    initial_params = var_params.copy()\n",
        "\n",
        "    # Using the Adam optimizer with an increased step size\n",
        "    opt = qml.AdamOptimizer(stepsize=STEP_SIZE)\n",
        "\n",
        "    for i in range(NUM_STEPS):\n",
        "        # Evaluate the initial circuit with true parameters\n",
        "        observed_values = np.array(noisy_circuit(var_params, x=true_thetas))\n",
        "\n",
        "        # Pass true_thetas as the target values for the optimization\n",
        "        var_params = opt.step(noisy_cost, var_params, x=true_thetas, y=true_thetas)\n",
        "\n",
        "        # Print the cost every 50 steps\n",
        "        if i % 50 == 0:\n",
        "            print(f\"Step {i+1}/{NUM_STEPS} - Cost: {noisy_cost(var_params, x=true_thetas, y=true_thetas)}\")\n",
        "\n",
        "    print(\"\\nOptimization complete.\")\n",
        "    print(\"Initial parameters:\", initial_params)\n",
        "    print(\"Optimized parameters with noise:\", var_params)\n",
        "    print(\"Final cost with noise:\", noisy_cost(var_params, x=true_thetas, y=true_thetas))\n",
        "\n",
        "if __name__ == \"__main__\":\n",
        "    optimize_with_noise()"
      ]
    }
  ]
}